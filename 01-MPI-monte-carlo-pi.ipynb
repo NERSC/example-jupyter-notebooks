{
 "cells": [
  {
   "cell_type": "markdown",
   "metadata": {},
   "source": [
    "# Using MPI from Jupyter at NERSC\n",
    "\n",
    "* This notebook shows how you can use MPI in a job allocation on Cori.\n",
    "* In this example the notebook itself is not running on a node in the job allocation.\n",
    "* It is running \"outside\" the compute nodes.\n",
    "\n",
    "## Overview\n",
    "\n",
    "* First we'll start up an ipyparallel cluster in a job allocation on Cori compute nodes.\n",
    "* When it is running, we will make a connection to the cluster controller process.\n",
    "* We'll send code to worker processes (engines) to execute code in parallel.\n",
    "* The example will be simple: Using a Monte Carlo technique to estimate the value of pi."
   ]
  },
  {
   "cell_type": "markdown",
   "metadata": {},
   "source": [
    "## Enable interaction with the batch queue\n",
    "\n",
    "* We need to issue Slurm commands like `sbatch`, `squeue`, and `scancel` from our notebook\n",
    "* Enable this by loading the `slurm_magic` package: Slurm magic commands for Jupyter"
   ]
  },
  {
   "cell_type": "code",
   "execution_count": null,
   "metadata": {},
   "outputs": [],
   "source": [
    "%load_ext slurm_magic"
   ]
  },
  {
   "cell_type": "markdown",
   "metadata": {},
   "source": [
    "## Start an ipyparallel cluster on some compute nodes\n",
    "\n",
    "* To do this we'll submit a job using the `%%sbatch` cell magic\n",
    "* We'll use the submitted job's ID to make contact with it, once it's up, from the notebook\n",
    "* We start an `ipcontroller` process that coordinates the worker processes\n",
    "* Finally we launch `ipengine` worker processes --- just Python processes waiting for input"
   ]
  },
  {
   "cell_type": "code",
   "execution_count": null,
   "metadata": {},
   "outputs": [],
   "source": [
    "%%sbatch\n",
    "#!/bin/bash\n",
    "#SBATCH --constraint=haswell\n",
    "#SBATCH --nodes=2\n",
    "#SBATCH --partition=debug\n",
    "#SBATCH --time=30\n",
    "\n",
    "module load python/3.6-anaconda-5.2\n",
    "\n",
    "# Get IP address of head node\n",
    "head_ip=$(ip addr show ipogif0 | grep '10\\.' | awk '{print $2}' | awk -F'/' '{print $1}')\n",
    "\n",
    "# Unique cluster ID for this job\n",
    "cluster_id=cori_${SLURM_JOB_ID}\n",
    "\n",
    "# Cluster controller\n",
    "ipcontroller --ip=\"$head_ip\" --cluster-id=$cluster_id &\n",
    "sleep 10\n",
    "\n",
    "# Compute engines\n",
    "srun -u -n 32 ipengine --cluster-id=$cluster_id"
   ]
  },
  {
   "cell_type": "markdown",
   "metadata": {},
   "source": [
    "## Get the cluster ID from the job ID"
   ]
  },
  {
   "cell_type": "code",
   "execution_count": null,
   "metadata": {},
   "outputs": [],
   "source": [
    "job_id = _.split()[-1]\n",
    "job_id"
   ]
  },
  {
   "cell_type": "code",
   "execution_count": null,
   "metadata": {},
   "outputs": [],
   "source": [
    "cluster_id = \"cori_\" + job_id\n",
    "cluster_id"
   ]
  },
  {
   "cell_type": "markdown",
   "metadata": {},
   "source": [
    "## Is the job running yet?"
   ]
  },
  {
   "cell_type": "code",
   "execution_count": null,
   "metadata": {},
   "outputs": [],
   "source": [
    "%squeue -u rthomas"
   ]
  },
  {
   "cell_type": "markdown",
   "metadata": {},
   "source": [
    "## Establish connection from the notebook to the compute nodes"
   ]
  },
  {
   "cell_type": "code",
   "execution_count": null,
   "metadata": {},
   "outputs": [],
   "source": [
    "import ipyparallel as ipp\n",
    "c = ipp.Client(timeout=60, cluster_id=cluster_id)\n",
    "[str(i) for i in c.ids].join()"
   ]
  },
  {
   "cell_type": "markdown",
   "metadata": {},
   "source": [
    "## Initialize MPI\n",
    "\n",
    "* With `mpi4py` the import actually calls `MPI_Init()` under the hood\n",
    "* The `%%px` cell magic means \"execute this cell on all the workers\""
   ]
  },
  {
   "cell_type": "code",
   "execution_count": null,
   "metadata": {},
   "outputs": [],
   "source": [
    "%%px\n",
    "from mpi4py import MPI"
   ]
  },
  {
   "cell_type": "markdown",
   "metadata": {},
   "source": [
    "## The Customary MPI \"Hello World\""
   ]
  },
  {
   "cell_type": "code",
   "execution_count": null,
   "metadata": {},
   "outputs": [],
   "source": [
    "%%px\n",
    "print(\"Hello world from rank\", MPI.COMM_WORLD.rank, \"of\" MPI.COMM_WORLD.size)"
   ]
  },
  {
   "cell_type": "markdown",
   "metadata": {},
   "source": [
    "## Let's do something more interesting, estimate Pi\n",
    "\n",
    "* Let's import a couple more packages we need\n",
    "* Remember, all the workers need to do this"
   ]
  },
  {
   "cell_type": "code",
   "execution_count": null,
   "metadata": {},
   "outputs": [],
   "source": [
    "%%px\n",
    "import random\n",
    "import math"
   ]
  },
  {
   "cell_type": "markdown",
   "metadata": {},
   "source": [
    "## Set up a \"dart board\" function\n",
    "\n",
    "* Consider a unit square with a quarter-circle centered in the lower left-hand corner\n",
    "* Distribute \"darts\" uniformly over the unit square\n",
    "* Count how many \"darts\" land inside the quarter circle\n",
    "* The ratio of that number of \"darts\" to the total number \"thrown\" can be used to estimate pi\n",
    "* The answer gets better the more \"darts\" are thrown"
   ]
  },
  {
   "cell_type": "code",
   "execution_count": null,
   "metadata": {},
   "outputs": [],
   "source": [
    "%%px\n",
    "def work(trials):\n",
    "    count = 0.0\n",
    "    for i in range(trials):\n",
    "        x = random.random()\n",
    "        y = random.random()\n",
    "        if x ** 2 + y ** 2 < 1.0:\n",
    "            count += 1.0\n",
    "    return count"
   ]
  },
  {
   "cell_type": "markdown",
   "metadata": {},
   "source": [
    "## Now the MPI part\n",
    "\n",
    "* Each MPI rank initializes its own random number generator and throws the same number of \"darts\"\n",
    "* The total number of \"darts\" in each rank's circle are `MPI_Gather`ed\n",
    "* MPI rank 0 tallies them up and multiplies by 4 to get a unit circle's area\n",
    "* Finally we output the answer and see how well we did"
   ]
  },
  {
   "cell_type": "code",
   "execution_count": null,
   "metadata": {},
   "outputs": [],
   "source": [
    "%%px\n",
    "def compute_pi(trials):\n",
    "    \n",
    "    # Useful MPI information\n",
    "    \n",
    "    mpi_comm = MPI.COMM_WORLD\n",
    "    mpi_size = mpi_comm.size\n",
    "    mpi_rank = mpi_comm.rank\n",
    "    mpi_root = mpi_rank == 0\n",
    "    \n",
    "    # Initialize random number generator\n",
    "    \n",
    "    random.seed(192837465 + mpi_rank)\n",
    "    \n",
    "    # Distribute work, gather results, and report answer\n",
    "    \n",
    "    count = work(trials)\n",
    "    count = mpi_comm.gather(count, root=0)\n",
    "    if mpi_root:\n",
    "        total_count = sum(count)\n",
    "        total_trials = mpi_size * trials\n",
    "        estimated_pi = 4.0 * total_count / total_trials\n",
    "        print(\"Total Count:   \", total_count)\n",
    "        print(\"Total Trials:  \", total_trials)\n",
    "        print(\"Estimate of pi:\", estimated_pi, math.pi, abs(estimated_pi - math.pi)) "
   ]
  },
  {
   "cell_type": "markdown",
   "metadata": {},
   "source": [
    "## Time to compute pi!"
   ]
  },
  {
   "cell_type": "code",
   "execution_count": null,
   "metadata": {},
   "outputs": [],
   "source": [
    "%%px\n",
    "compute_pi(10000000)"
   ]
  },
  {
   "cell_type": "markdown",
   "metadata": {},
   "source": [
    "## Example of just running on one rank (not in the notebook)"
   ]
  },
  {
   "cell_type": "code",
   "execution_count": null,
   "metadata": {},
   "outputs": [],
   "source": [
    "%%px --targets 0\n",
    "work(10000000)"
   ]
  },
  {
   "cell_type": "markdown",
   "metadata": {},
   "source": [
    "## Cancel the job --- our notebook stays up"
   ]
  },
  {
   "cell_type": "code",
   "execution_count": null,
   "metadata": {},
   "outputs": [],
   "source": [
    "%scancel $job_id"
   ]
  }
 ],
 "metadata": {
  "kernelspec": {
   "display_name": "Python 3",
   "language": "python",
   "name": "python3"
  },
  "language_info": {
   "codemirror_mode": {
    "name": "ipython",
    "version": 3
   },
   "file_extension": ".py",
   "mimetype": "text/x-python",
   "name": "python",
   "nbconvert_exporter": "python",
   "pygments_lexer": "ipython3",
   "version": "3.7.0"
  }
 },
 "nbformat": 4,
 "nbformat_minor": 2
}
