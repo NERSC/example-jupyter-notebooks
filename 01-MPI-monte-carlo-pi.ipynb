{
 "cells": [
  {
   "cell_type": "code",
   "execution_count": null,
   "metadata": {},
   "outputs": [],
   "source": [
    "%load_ext slurm_magic"
   ]
  },
  {
   "cell_type": "code",
   "execution_count": null,
   "metadata": {},
   "outputs": [],
   "source": [
    "%%sbatch\n",
    "#!/bin/bash\n",
    "#SBATCH --constraint=haswell\n",
    "#SBATCH --nodes=2\n",
    "#SBATCH --partition=debug\n",
    "#SBATCH --time=30\n",
    "\n",
    "module load python/3.6-anaconda-5.2\n",
    "\n",
    "# Get IP address of head node\n",
    "head_ip=$(ip addr show ipogif0 | grep '10\\.' | awk '{print $2}' | awk -F'/' '{print $1}')\n",
    "\n",
    "# Unique cluster ID for this job\n",
    "cluster_id=cori_${SLURM_JOB_ID}\n",
    "\n",
    "# Cluster controller\n",
    "ipcontroller --ip=\"$head_ip\" --cluster-id=$cluster_id &\n",
    "sleep 10\n",
    "\n",
    "# Compute engines\n",
    "srun -u -n 32 ipengine --cluster-id=$cluster_id"
   ]
  },
  {
   "cell_type": "code",
   "execution_count": null,
   "metadata": {},
   "outputs": [],
   "source": [
    "job_id = _.split()[-1]\n",
    "job_id"
   ]
  },
  {
   "cell_type": "code",
   "execution_count": null,
   "metadata": {},
   "outputs": [],
   "source": [
    "cluster_id = \"cori_\" + job_id\n",
    "cluster_id"
   ]
  },
  {
   "cell_type": "code",
   "execution_count": null,
   "metadata": {},
   "outputs": [],
   "source": [
    "%squeue -u rthomas"
   ]
  },
  {
   "cell_type": "code",
   "execution_count": null,
   "metadata": {},
   "outputs": [],
   "source": [
    "import ipyparallel as ipp"
   ]
  },
  {
   "cell_type": "code",
   "execution_count": null,
   "metadata": {},
   "outputs": [],
   "source": [
    "c = ipp.Client(timeout=60, cluster_id=cluster_id)"
   ]
  },
  {
   "cell_type": "code",
   "execution_count": null,
   "metadata": {},
   "outputs": [],
   "source": [
    "c.ids"
   ]
  },
  {
   "cell_type": "code",
   "execution_count": null,
   "metadata": {},
   "outputs": [],
   "source": [
    "%%px\n",
    "from mpi4py import MPI"
   ]
  },
  {
   "cell_type": "code",
   "execution_count": null,
   "metadata": {},
   "outputs": [],
   "source": [
    "%%px\n",
    "print(MPI.COMM_WORLD.rank)"
   ]
  },
  {
   "cell_type": "code",
   "execution_count": null,
   "metadata": {},
   "outputs": [],
   "source": [
    "%%px\n",
    "import random\n",
    "import math"
   ]
  },
  {
   "cell_type": "code",
   "execution_count": null,
   "metadata": {},
   "outputs": [],
   "source": [
    "%%px\n",
    "def work(trials):\n",
    "    count = 0.0\n",
    "    for i in range(trials):\n",
    "        x = random.random()\n",
    "        y = random.random()\n",
    "        if x ** 2 + y ** 2 < 1.0:\n",
    "            count += 1.0\n",
    "    return count"
   ]
  },
  {
   "cell_type": "code",
   "execution_count": null,
   "metadata": {},
   "outputs": [],
   "source": [
    "%%px\n",
    "def compute_pi(trials):\n",
    "    \n",
    "    # Initialize MPI\n",
    "    \n",
    "    mpi_comm = MPI.COMM_WORLD\n",
    "    mpi_size = mpi_comm.size\n",
    "    mpi_rank = mpi_comm.rank\n",
    "    mpi_root = mpi_rank == 0\n",
    "    \n",
    "    # Initialize random number generator\n",
    "    \n",
    "    random.seed(192837465 + mpi_rank)\n",
    "    \n",
    "    # Distribute work, gather results, and report answer\n",
    "    \n",
    "    count = work(trials)\n",
    "    count = mpi_comm.gather(count, root=0)\n",
    "    if mpi_root:\n",
    "        total_count = sum(count)\n",
    "        total_trials = mpi_size * trials\n",
    "        estimated_pi = 4.0 * total_count / total_trials\n",
    "        print(\"Total Count:   \", total_count)\n",
    "        print(\"Total Trials:  \", total_trials)\n",
    "        print(\"Estimate of pi:\", estimated_pi, math.pi, abs(estimated_pi - math.pi)) "
   ]
  },
  {
   "cell_type": "code",
   "execution_count": null,
   "metadata": {},
   "outputs": [],
   "source": [
    "%%px\n",
    "compute_pi(10000000)"
   ]
  },
  {
   "cell_type": "code",
   "execution_count": null,
   "metadata": {},
   "outputs": [],
   "source": [
    "%%px --targets 0\n",
    "work(10000000)"
   ]
  },
  {
   "cell_type": "code",
   "execution_count": null,
   "metadata": {},
   "outputs": [],
   "source": [
    "%scancel $job_id"
   ]
  }
 ],
 "metadata": {
  "kernelspec": {
   "display_name": "Python [default]",
   "language": "python",
   "name": "python3"
  },
  "language_info": {
   "codemirror_mode": {
    "name": "ipython",
    "version": 3
   },
   "file_extension": ".py",
   "mimetype": "text/x-python",
   "name": "python",
   "nbconvert_exporter": "python",
   "pygments_lexer": "ipython3",
   "version": "3.6.5"
  }
 },
 "nbformat": 4,
 "nbformat_minor": 2
}
